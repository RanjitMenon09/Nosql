{
 "cells": [
  {
   "cell_type": "markdown",
   "id": "c5ea20d1",
   "metadata": {},
   "source": [
    "### Case Study project for NoSQL"
   ]
  },
  {
   "cell_type": "markdown",
   "id": "e398eb74",
   "metadata": {},
   "source": [
    "#### Import necessary libraries to work with Mongodb"
   ]
  },
  {
   "cell_type": "code",
   "execution_count": 1,
   "id": "ad913e5e",
   "metadata": {},
   "outputs": [],
   "source": [
    "import pymongo\n",
    "import json\n",
    "from pprint import pprint \n",
    "from datetime import datetime"
   ]
  },
  {
   "cell_type": "markdown",
   "id": "633d4171",
   "metadata": {},
   "source": [
    "#### Connect to local mongodb and output the connection status"
   ]
  },
  {
   "cell_type": "code",
   "execution_count": 2,
   "id": "09599248",
   "metadata": {},
   "outputs": [
    {
     "data": {
      "text/plain": [
       "MongoClient(host=['localhost:27017'], document_class=dict, tz_aware=False, connect=True)"
      ]
     },
     "execution_count": 2,
     "metadata": {},
     "output_type": "execute_result"
    }
   ],
   "source": [
    "client = pymongo.MongoClient(\"localhost\", 27017)\n",
    "client"
   ]
  },
  {
   "cell_type": "markdown",
   "id": "2ae36b7f",
   "metadata": {},
   "source": [
    "#### Import a sample_analytics collection into local db (this is a one time activities)"
   ]
  },
  {
   "cell_type": "code",
   "execution_count": 3,
   "id": "6cd7048c",
   "metadata": {},
   "outputs": [],
   "source": [
    "#!\"C:\\Program Files\\MongoDB\\Tools\\100\\bin\\mongoimport\" --host localhost --port 27017 --db financial_analytics --collection accounts --file \"./dataset/accounts.json\"\n",
    "#!\"C:\\Program Files\\MongoDB\\Tools\\100\\bin\\mongoimport\" --host localhost --port 27017 --db financial_analytics --collection customers --file \"./dataset/customers.json\"\n",
    "#!\"C:\\Program Files\\MongoDB\\Tools\\100\\bin\\mongoimport\" --host localhost --port 27017 --db financial_analytics --collection transactions --file \"./dataset/transactions.json\""
   ]
  },
  {
   "cell_type": "markdown",
   "id": "ab67b43c",
   "metadata": {},
   "source": [
    "#### Create a database financial_analytics and add three collection to the same, this are\n",
    "- accounts\n",
    "- customers\n",
    "- transactions"
   ]
  },
  {
   "cell_type": "code",
   "execution_count": 4,
   "id": "c5c1651a",
   "metadata": {},
   "outputs": [
    {
     "name": "stdout",
     "output_type": "stream",
     "text": [
      "admin\n",
      "config\n",
      "financial_analytics\n",
      "local\n",
      "========  financial_analytics Collections  ===========\n",
      "accounts count: 1746\n",
      "customers count: 500\n",
      "transactions count: 1746\n"
     ]
    }
   ],
   "source": [
    "finance_db = client[\"financial_analytics\"]\n",
    "\n",
    "    \n",
    "accounts = finance_db[\"accounts\"]\n",
    "customers = finance_db[\"customers\"]\n",
    "transactions = finance_db[\"transactions\"]\n",
    "\n",
    "databases = client.list_database_names()\n",
    "for dbs in databases:\n",
    "    print(dbs)\n",
    "    \n",
    "print('========  financial_analytics Collections  ===========')\n",
    "print(f\"accounts count: {accounts.count_documents({})}\")\n",
    "print(f\"customers count: {customers.count_documents({})}\")\n",
    "print(f\"transactions count: {transactions.count_documents({})}\")"
   ]
  },
  {
   "cell_type": "markdown",
   "id": "2a1eac3b",
   "metadata": {},
   "source": [
    "### Create index on following field to improve the search query\n",
    "\n",
    "- Customers (Compound index on name and username)\n",
    "- accounts (single index on limit)\n",
    "- transactions (array index)\n"
   ]
  },
  {
   "cell_type": "code",
   "execution_count": 5,
   "id": "8a5d798a",
   "metadata": {},
   "outputs": [
    {
     "data": {
      "text/plain": [
       "'transactions_1'"
      ]
     },
     "execution_count": 5,
     "metadata": {},
     "output_type": "execute_result"
    }
   ],
   "source": [
    "#create compound  index on customers\n",
    "customers.create_index([(\"name\",1),(\"username\",1)]);\n",
    "\n",
    "#create single field index on accounts\n",
    "accounts.create_index([(\"limit\",1)])\n",
    "\n",
    "transactions.create_index([(\"transactions\",1)])\n",
    "#customers.create_index([(\"name\", \"text\")])"
   ]
  },
  {
   "cell_type": "markdown",
   "id": "7bcf5e19",
   "metadata": {},
   "source": [
    "### View default and custom index on the three collections"
   ]
  },
  {
   "cell_type": "code",
   "execution_count": 6,
   "id": "db5f7a0a",
   "metadata": {},
   "outputs": [
    {
     "name": "stdout",
     "output_type": "stream",
     "text": [
      "SON([('v', 2), ('key', SON([('_id', 1)])), ('name', '_id_')])\n",
      "SON([('v', 2), ('key', SON([('limit', 1)])), ('name', 'limit_1')])\n",
      "SON([('v', 2), ('key', SON([('_id', 1)])), ('name', '_id_')])\n",
      "SON([('v', 2), ('key', SON([('_fts', 'text'), ('_ftsx', 1)])), ('name', 'name_text'), ('weights', SON([('name', 1)])), ('default_language', 'english'), ('language_override', 'language'), ('textIndexVersion', 3)])\n",
      "SON([('v', 2), ('key', SON([('name', 1), ('username', 1)])), ('name', 'name_1_username_1')])\n",
      "SON([('v', 2), ('key', SON([('_id', 1)])), ('name', '_id_')])\n",
      "SON([('v', 2), ('key', SON([('transactions', 1)])), ('name', 'transactions_1')])\n"
     ]
    },
    {
     "data": {
      "text/plain": [
       "[None, None]"
      ]
     },
     "execution_count": 6,
     "metadata": {},
     "output_type": "execute_result"
    }
   ],
   "source": [
    "# Print the list of indexes\n",
    "[print(index) for index in accounts.list_indexes()]\n",
    "[print(index) for index in customers.list_indexes()]\n",
    "[print(index) for index in transactions.list_indexes()]"
   ]
  },
  {
   "cell_type": "markdown",
   "id": "09bb4ac2",
   "metadata": {},
   "source": [
    "### Display one record from accounts collection"
   ]
  },
  {
   "cell_type": "code",
   "execution_count": 7,
   "id": "37e34fe6",
   "metadata": {},
   "outputs": [
    {
     "name": "stdout",
     "output_type": "stream",
     "text": [
      "{'_id': ObjectId('5ca4bbc7a2dd94ee5816238d'),\n",
      " 'account_id': 557378,\n",
      " 'limit': 10000,\n",
      " 'products': ['InvestmentStock', 'Commodity', 'Brokerage', 'CurrencyService']}\n"
     ]
    },
    {
     "data": {
      "text/plain": [
       "[None]"
      ]
     },
     "execution_count": 7,
     "metadata": {},
     "output_type": "execute_result"
    }
   ],
   "source": [
    "[pprint(records) for records in finance_db.accounts.find().limit(1)]"
   ]
  },
  {
   "cell_type": "markdown",
   "id": "22fbddc7",
   "metadata": {},
   "source": [
    "### Display one record from customers collection"
   ]
  },
  {
   "cell_type": "code",
   "execution_count": 8,
   "id": "e4ecae44",
   "metadata": {},
   "outputs": [
    {
     "name": "stdout",
     "output_type": "stream",
     "text": [
      "{'_id': ObjectId('5ca4bbcea2dd94ee58162a68'),\n",
      " 'accounts': [371138, 324287, 276528, 332179, 422649, 387979],\n",
      " 'active': True,\n",
      " 'address': '9286 Bethany Glens\\nVasqueztown, CO 22939',\n",
      " 'birthdate': datetime.datetime(1977, 3, 2, 2, 20, 31),\n",
      " 'email': 'arroyocolton@gmail.com',\n",
      " 'name': 'Elizabeth Ray',\n",
      " 'tier_and_details': {'0df078f33aa74a2e9696e0520c1a828a': {'active': True,\n",
      "                                                           'benefits': ['sports '\n",
      "                                                                        'tickets'],\n",
      "                                                           'id': '0df078f33aa74a2e9696e0520c1a828a',\n",
      "                                                           'tier': 'Bronze'},\n",
      "                      '699456451cc24f028d2aa99d7534c219': {'active': True,\n",
      "                                                           'benefits': ['24 '\n",
      "                                                                        'hour '\n",
      "                                                                        'dedicated '\n",
      "                                                                        'line',\n",
      "                                                                        'concierge '\n",
      "                                                                        'services'],\n",
      "                                                           'id': '699456451cc24f028d2aa99d7534c219',\n",
      "                                                           'tier': 'Bronze'}},\n",
      " 'username': 'fmiller'}\n"
     ]
    },
    {
     "data": {
      "text/plain": [
       "[None]"
      ]
     },
     "execution_count": 8,
     "metadata": {},
     "output_type": "execute_result"
    }
   ],
   "source": [
    "[pprint(records) for records in finance_db.customers.find().limit(1)]"
   ]
  },
  {
   "cell_type": "markdown",
   "id": "5fab0a89",
   "metadata": {},
   "source": [
    "### Display one record from transactions collection"
   ]
  },
  {
   "cell_type": "code",
   "execution_count": 9,
   "id": "578dc3f2",
   "metadata": {},
   "outputs": [
    {
     "name": "stdout",
     "output_type": "stream",
     "text": [
      "{'_id': ObjectId('5ca4bbc1a2dd94ee58161cb1'),\n",
      " 'account_id': 443178,\n",
      " 'bucket_end_date': datetime.datetime(2017, 1, 3, 0, 0),\n",
      " 'bucket_start_date': datetime.datetime(1969, 2, 4, 0, 0),\n",
      " 'transaction_count': 66,\n",
      " 'transactions': [{'amount': 7514,\n",
      "                   'date': datetime.datetime(2003, 9, 9, 0, 0),\n",
      "                   'price': '19.1072802650074180519368383102118968963623046875',\n",
      "                   'symbol': 'adbe',\n",
      "                   'total': '143572.1039112657392422534031',\n",
      "                   'transaction_code': 'buy'},\n",
      "                  {'amount': 9240,\n",
      "                   'date': datetime.datetime(2016, 6, 14, 0, 0),\n",
      "                   'price': '24.1525632387771480580340721644461154937744140625',\n",
      "                   'symbol': 'team',\n",
      "                   'total': '223169.6843263008480562348268',\n",
      "                   'transaction_code': 'buy'},\n",
      "                  {'amount': 2824,\n",
      "                   'date': datetime.datetime(2002, 12, 4, 0, 0),\n",
      "                   'price': '21.046193953245431629284212249331176280975341796875',\n",
      "                   'symbol': 'msft',\n",
      "                   'total': '59434.45172396509892109861539',\n",
      "                   'transaction_code': 'buy'},\n",
      "                  {'amount': 7418,\n",
      "                   'date': datetime.datetime(2014, 7, 14, 0, 0),\n",
      "                   'price': '76.38514540536692720706923864781856536865234375',\n",
      "                   'symbol': 'sap',\n",
      "                   'total': '566625.0086170118660220396123',\n",
      "                   'transaction_code': 'sell'},\n",
      "                  {'amount': 5638,\n",
      "                   'date': datetime.datetime(2011, 10, 28, 0, 0),\n",
      "                   'price': '28.365657608641175357888641883619129657745361328125',\n",
      "                   'symbol': 'adbe',\n",
      "                   'total': '159925.5775975189466677761629',\n",
      "                   'transaction_code': 'buy'},\n",
      "                  {'amount': 6774,\n",
      "                   'date': datetime.datetime(2010, 12, 20, 0, 0),\n",
      "                   'price': '45.3237971108758159743956639431416988372802734375',\n",
      "                   'symbol': 'sap',\n",
      "                   'total': '307023.4016290727774105562276',\n",
      "                   'transaction_code': 'sell'},\n",
      "                  {'amount': 7251,\n",
      "                   'date': datetime.datetime(2015, 10, 28, 0, 0),\n",
      "                   'price': '102.936674838205050264150486327707767486572265625',\n",
      "                   'symbol': 'nflx',\n",
      "                   'total': '746393.8292518248194653551764',\n",
      "                   'transaction_code': 'sell'},\n",
      "                  {'amount': 8828,\n",
      "                   'date': datetime.datetime(2012, 2, 2, 0, 0),\n",
      "                   'price': '17.838862313630283296106426860205829143524169921875',\n",
      "                   'symbol': 'nflx',\n",
      "                   'total': '157481.4765047281409380275363',\n",
      "                   'transaction_code': 'buy'},\n",
      "                  {'amount': 5585,\n",
      "                   'date': datetime.datetime(2016, 3, 14, 0, 0),\n",
      "                   'price': '22.645934804740733170547173358500003814697265625',\n",
      "                   'symbol': 'team',\n",
      "                   'total': '126477.5458844769947575059632',\n",
      "                   'transaction_code': 'sell'},\n",
      "                  {'amount': 5789,\n",
      "                   'date': datetime.datetime(2012, 3, 1, 0, 0),\n",
      "                   'price': '16.0804676963220600782733527012169361114501953125',\n",
      "                   'symbol': 'nflx',\n",
      "                   'total': '93089.82749400840579312443879',\n",
      "                   'transaction_code': 'buy'},\n",
      "                  {'amount': 7856,\n",
      "                   'date': datetime.datetime(2001, 1, 4, 0, 0),\n",
      "                   'price': '26.71098408678698632456871564500033855438232421875',\n",
      "                   'symbol': 'adbe',\n",
      "                   'total': '209841.4909857985645658118301',\n",
      "                   'transaction_code': 'buy'},\n",
      "                  {'amount': 8539,\n",
      "                   'date': datetime.datetime(2015, 12, 14, 0, 0),\n",
      "                   'price': '120.2002067302756387334738974459469318389892578125',\n",
      "                   'symbol': 'nflx',\n",
      "                   'total': '1026389.565269823679145133610',\n",
      "                   'transaction_code': 'buy'},\n",
      "                  {'amount': 4967,\n",
      "                   'date': datetime.datetime(2016, 10, 5, 0, 0),\n",
      "                   'price': '90.35066753097771652392111718654632568359375',\n",
      "                   'symbol': 'sap',\n",
      "                   'total': '448771.7656263663179743161891',\n",
      "                   'transaction_code': 'buy'},\n",
      "                  {'amount': 2893,\n",
      "                   'date': datetime.datetime(2016, 9, 26, 0, 0),\n",
      "                   'price': '30.227075585186970130280315061099827289581298828125',\n",
      "                   'symbol': 'team',\n",
      "                   'total': '87446.92966794590458690095147',\n",
      "                   'transaction_code': 'buy'},\n",
      "                  {'amount': 9559,\n",
      "                   'date': datetime.datetime(1992, 7, 17, 0, 0),\n",
      "                   'price': '19.83986843992497739463942707516252994537353515625',\n",
      "                   'symbol': 'ibm',\n",
      "                   'total': '189649.3024172428589153582834',\n",
      "                   'transaction_code': 'sell'},\n",
      "                  {'amount': 8269,\n",
      "                   'date': datetime.datetime(1978, 2, 16, 0, 0),\n",
      "                   'price': '13.2722697458426655003904670593328773975372314453125',\n",
      "                   'symbol': 'ibm',\n",
      "                   'total': '109748.3985283730010227287721',\n",
      "                   'transaction_code': 'buy'},\n",
      "                  {'amount': 8081,\n",
      "                   'date': datetime.datetime(2016, 6, 1, 0, 0),\n",
      "                   'price': '143.758609271150135100469924509525299072265625',\n",
      "                   'symbol': 'ibm',\n",
      "                   'total': '1161713.321520164241746897460',\n",
      "                   'transaction_code': 'sell'},\n",
      "                  {'amount': 6145,\n",
      "                   'date': datetime.datetime(1986, 10, 23, 0, 0),\n",
      "                   'price': '0.2800000011920928955078125',\n",
      "                   'symbol': 'adbe',\n",
      "                   'total': '1720.600007325410842895507812',\n",
      "                   'transaction_code': 'sell'},\n",
      "                  {'amount': 6973,\n",
      "                   'date': datetime.datetime(2010, 10, 22, 0, 0),\n",
      "                   'price': '21.268423447276756377277706633321940898895263671875',\n",
      "                   'symbol': 'msft',\n",
      "                   'total': '148304.7166978608222187574484',\n",
      "                   'transaction_code': 'buy'},\n",
      "                  {'amount': 3082,\n",
      "                   'date': datetime.datetime(2016, 7, 28, 0, 0),\n",
      "                   'price': '86.029571359374330086211557500064373016357421875',\n",
      "                   'symbol': 'sap',\n",
      "                   'total': '265143.1389295916853257040202',\n",
      "                   'transaction_code': 'sell'},\n",
      "                  {'amount': 2978,\n",
      "                   'date': datetime.datetime(1988, 11, 18, 0, 0),\n",
      "                   'price': '0.2432200014591217041015625',\n",
      "                   'symbol': 'msft',\n",
      "                   'total': '724.3091643452644348144531250',\n",
      "                   'transaction_code': 'buy'},\n",
      "                  {'amount': 9265,\n",
      "                   'date': datetime.datetime(2002, 2, 20, 0, 0),\n",
      "                   'price': '81.091017566265037430639495141804218292236328125',\n",
      "                   'symbol': 'ibm',\n",
      "                   'total': '751308.2777514455717948749225',\n",
      "                   'transaction_code': 'buy'},\n",
      "                  {'amount': 9192,\n",
      "                   'date': datetime.datetime(2014, 8, 18, 0, 0),\n",
      "                   'price': '74.557668636076840584792080335319042205810546875',\n",
      "                   'symbol': 'sap',\n",
      "                   'total': '685334.0901028183186554088024',\n",
      "                   'transaction_code': 'buy'},\n",
      "                  {'amount': 7408,\n",
      "                   'date': datetime.datetime(1971, 11, 17, 0, 0),\n",
      "                   'price': '12.4267172965691319319603280746378004550933837890625',\n",
      "                   'symbol': 'ibm',\n",
      "                   'total': '92057.12173298412935196211038',\n",
      "                   'transaction_code': 'sell'},\n",
      "                  {'amount': 3267,\n",
      "                   'date': datetime.datetime(2011, 12, 23, 0, 0),\n",
      "                   'price': '10.54898647579047832323340117000043392181396484375',\n",
      "                   'symbol': 'nflx',\n",
      "                   'total': '34463.53881640749268200352162',\n",
      "                   'transaction_code': 'sell'},\n",
      "                  {'amount': 7582,\n",
      "                   'date': datetime.datetime(2012, 5, 24, 0, 0),\n",
      "                   'price': '10.1614266582902761371087763109244406223297119140625',\n",
      "                   'symbol': 'nflx',\n",
      "                   'total': '77043.93692315687367155874199',\n",
      "                   'transaction_code': 'buy'},\n",
      "                  {'amount': 643,\n",
      "                   'date': datetime.datetime(2012, 8, 20, 0, 0),\n",
      "                   'price': '9.1583720360888047906655629049055278301239013671875',\n",
      "                   'symbol': 'nflx',\n",
      "                   'total': '5888.833219205101480397956948',\n",
      "                   'transaction_code': 'sell'},\n",
      "                  {'amount': 3129,\n",
      "                   'date': datetime.datetime(2013, 3, 27, 0, 0),\n",
      "                   'price': '74.33570821035419839972746558487415313720703125',\n",
      "                   'symbol': 'sap',\n",
      "                   'total': '232596.4309901982867927472398',\n",
      "                   'transaction_code': 'buy'},\n",
      "                  {'amount': 4075,\n",
      "                   'date': datetime.datetime(2015, 10, 22, 0, 0),\n",
      "                   'price': '45.37162592751771938992533250711858272552490234375',\n",
      "                   'symbol': 'msft',\n",
      "                   'total': '184889.3756546347065139457300',\n",
      "                   'transaction_code': 'buy'},\n",
      "                  {'amount': 4386,\n",
      "                   'date': datetime.datetime(2016, 7, 21, 0, 0),\n",
      "                   'price': '27.936906667695467376688611693680286407470703125',\n",
      "                   'symbol': 'team',\n",
      "                   'total': '122531.2726445123199141562509',\n",
      "                   'transaction_code': 'sell'},\n",
      "                  {'amount': 3093,\n",
      "                   'date': datetime.datetime(1993, 12, 2, 0, 0),\n",
      "                   'price': '2.978981080777631351708123474963940680027008056640625',\n",
      "                   'symbol': 'adbe',\n",
      "                   'total': '9213.988482845213770833225908',\n",
      "                   'transaction_code': 'buy'},\n",
      "                  {'amount': 5053,\n",
      "                   'date': datetime.datetime(2011, 6, 1, 0, 0),\n",
      "                   'price': '34.76661582629167668301306548528373241424560546875',\n",
      "                   'symbol': 'adbe',\n",
      "                   'total': '175675.7097702518422792650199',\n",
      "                   'transaction_code': 'buy'},\n",
      "                  {'amount': 1428,\n",
      "                   'date': datetime.datetime(2010, 12, 1, 0, 0),\n",
      "                   'price': '28.3197718777616813667918904684484004974365234375',\n",
      "                   'symbol': 'nflx',\n",
      "                   'total': '40440.63424144368099177881959',\n",
      "                   'transaction_code': 'buy'},\n",
      "                  {'amount': 7974,\n",
      "                   'date': datetime.datetime(2002, 2, 5, 0, 0),\n",
      "                   'price': '23.08480386999243449963614693842828273773193359375',\n",
      "                   'symbol': 'msft',\n",
      "                   'total': '184078.2260593196727000986357',\n",
      "                   'transaction_code': 'sell'},\n",
      "                  {'amount': 5363,\n",
      "                   'date': datetime.datetime(2016, 10, 13, 0, 0),\n",
      "                   'price': '27.9515663517458960996009409427642822265625',\n",
      "                   'symbol': 'team',\n",
      "                   'total': '149904.2503444132407821598463',\n",
      "                   'transaction_code': 'sell'},\n",
      "                  {'amount': 4050,\n",
      "                   'date': datetime.datetime(2009, 4, 15, 0, 0),\n",
      "                   'price': '35.82050501072183834594397922046482563018798828125',\n",
      "                   'symbol': 'sap',\n",
      "                   'total': '145073.0452934234453010731158',\n",
      "                   'transaction_code': 'buy'},\n",
      "                  {'amount': 7447,\n",
      "                   'date': datetime.datetime(2013, 6, 28, 0, 0),\n",
      "                   'price': '165.427301038519743769938941113650798797607421875',\n",
      "                   'symbol': 'ibm',\n",
      "                   'total': '1231937.110833856531854735294',\n",
      "                   'transaction_code': 'buy'},\n",
      "                  {'amount': 1586,\n",
      "                   'date': datetime.datetime(1983, 5, 16, 0, 0),\n",
      "                   'price': '23.801111434215950879433876252733170986175537109375',\n",
      "                   'symbol': 'ibm',\n",
      "                   'total': '37748.56273466649809478212774',\n",
      "                   'transaction_code': 'buy'},\n",
      "                  {'amount': 7124,\n",
      "                   'date': datetime.datetime(2005, 3, 16, 0, 0),\n",
      "                   'price': '36.91652269537627262252499349415302276611328125',\n",
      "                   'symbol': 'sap',\n",
      "                   'total': '262993.3076818605661628680537',\n",
      "                   'transaction_code': 'buy'},\n",
      "                  {'amount': 2940,\n",
      "                   'date': datetime.datetime(1993, 3, 19, 0, 0),\n",
      "                   'price': '11.3086767608907070581381049123592674732208251953125',\n",
      "                   'symbol': 'ibm',\n",
      "                   'total': '33247.50967701867875092602844',\n",
      "                   'transaction_code': 'sell'},\n",
      "                  {'amount': 2273,\n",
      "                   'date': datetime.datetime(1993, 6, 18, 0, 0),\n",
      "                   'price': '4.16809173919640141292575208353810012340545654296875',\n",
      "                   'symbol': 'adbe',\n",
      "                   'total': '9474.072523193420411580234486',\n",
      "                   'transaction_code': 'buy'},\n",
      "                  {'amount': 2342,\n",
      "                   'date': datetime.datetime(1994, 6, 28, 0, 0),\n",
      "                   'price': '12.5191271611065957358732703141868114471435546875',\n",
      "                   'symbol': 'ibm',\n",
      "                   'total': '29319.79581131164721341519908',\n",
      "                   'transaction_code': 'buy'},\n",
      "                  {'amount': 6380,\n",
      "                   'date': datetime.datetime(2010, 9, 3, 0, 0),\n",
      "                   'price': '41.865973826467524077088455669581890106201171875',\n",
      "                   'symbol': 'sap',\n",
      "                   'total': '267104.9130128628036118243472',\n",
      "                   'transaction_code': 'sell'},\n",
      "                  {'amount': 9598,\n",
      "                   'date': datetime.datetime(1997, 9, 11, 0, 0),\n",
      "                   'price': '5.39232880197155584056645238888449966907501220703125',\n",
      "                   'symbol': 'adbe',\n",
      "                   'total': '51755.57184132299295775681003',\n",
      "                   'transaction_code': 'buy'},\n",
      "                  {'amount': 4123,\n",
      "                   'date': datetime.datetime(2016, 3, 9, 0, 0),\n",
      "                   'price': '75.127503708197110654509742744266986846923828125',\n",
      "                   'symbol': 'sap',\n",
      "                   'total': '309750.6977888966872285436693',\n",
      "                   'transaction_code': 'sell'},\n",
      "                  {'amount': 2473,\n",
      "                   'date': datetime.datetime(2008, 4, 17, 0, 0),\n",
      "                   'price': '46.75625859046404997343415743671357631683349609375',\n",
      "                   'symbol': 'sap',\n",
      "                   'total': '115628.2274942175955843026713',\n",
      "                   'transaction_code': 'buy'},\n",
      "                  {'amount': 8901,\n",
      "                   'date': datetime.datetime(1979, 1, 11, 0, 0),\n",
      "                   'price': '16.159743422775360244258990860544145107269287109375',\n",
      "                   'symbol': 'ibm',\n",
      "                   'total': '143837.8762061234815341492776',\n",
      "                   'transaction_code': 'buy'},\n",
      "                  {'amount': 2588,\n",
      "                   'date': datetime.datetime(2013, 1, 7, 0, 0),\n",
      "                   'price': '14.43803234005940083761743153445422649383544921875',\n",
      "                   'symbol': 'nflx',\n",
      "                   'total': '37365.62769607372936775391281',\n",
      "                   'transaction_code': 'buy'},\n",
      "                  {'amount': 578,\n",
      "                   'date': datetime.datetime(2003, 2, 19, 0, 0),\n",
      "                   'price': '14.1196581565672598657101843855343759059906005859375',\n",
      "                   'symbol': 'adbe',\n",
      "                   'total': '8161.162414495876202380486575',\n",
      "                   'transaction_code': 'sell'},\n",
      "                  {'amount': 964,\n",
      "                   'date': datetime.datetime(1982, 7, 22, 0, 0),\n",
      "                   'price': '13.85120720985607789543792023323476314544677734375',\n",
      "                   'symbol': 'ibm',\n",
      "                   'total': '13352.56375030125909120215510',\n",
      "                   'transaction_code': 'buy'},\n",
      "                  {'amount': 3970,\n",
      "                   'date': datetime.datetime(2016, 12, 8, 0, 0),\n",
      "                   'price': '26.247716617401248839769323240034282207489013671875',\n",
      "                   'symbol': 'team',\n",
      "                   'total': '104203.4349710829578938842133',\n",
      "                   'transaction_code': 'buy'},\n",
      "                  {'amount': 6607,\n",
      "                   'date': datetime.datetime(2015, 9, 3, 0, 0),\n",
      "                   'price': '79.33405532799093862195149995386600494384765625',\n",
      "                   'symbol': 'adbe',\n",
      "                   'total': '524160.1035520361314752335602',\n",
      "                   'transaction_code': 'buy'},\n",
      "                  {'amount': 4221,\n",
      "                   'date': datetime.datetime(2015, 12, 22, 0, 0),\n",
      "                   'price': '30.4044667242776398552450700663030147552490234375',\n",
      "                   'symbol': 'team',\n",
      "                   'total': '128337.2540431759178289894407',\n",
      "                   'transaction_code': 'sell'},\n",
      "                  {'amount': 4799,\n",
      "                   'date': datetime.datetime(2008, 8, 19, 0, 0),\n",
      "                   'price': '43.96347030926532539751860895194113254547119140625',\n",
      "                   'symbol': 'adbe',\n",
      "                   'total': '210980.6940141642965826918044',\n",
      "                   'transaction_code': 'buy'},\n",
      "                  {'amount': 4657,\n",
      "                   'date': datetime.datetime(1991, 5, 30, 0, 0),\n",
      "                   'price': '1.1517732225800922929437319908174686133861541748046875',\n",
      "                   'symbol': 'msft',\n",
      "                   'total': '5363.807897555489808238959881',\n",
      "                   'transaction_code': 'sell'},\n",
      "                  {'amount': 6397,\n",
      "                   'date': datetime.datetime(2014, 10, 6, 0, 0),\n",
      "                   'price': '66.439073760834702397914952598512172698974609375',\n",
      "                   'symbol': 'nflx',\n",
      "                   'total': '425010.7548480595912394619518',\n",
      "                   'transaction_code': 'buy'},\n",
      "                  {'amount': 6352,\n",
      "                   'date': datetime.datetime(2007, 7, 11, 0, 0),\n",
      "                   'price': '90.5944805618852484485614695586264133453369140625',\n",
      "                   'symbol': 'ibm',\n",
      "                   'total': '575456.1405290950981452624546',\n",
      "                   'transaction_code': 'buy'},\n",
      "                  {'amount': 2800,\n",
      "                   'date': datetime.datetime(2008, 2, 20, 0, 0),\n",
      "                   'price': '3.790661287329261330825147524592466652393341064453125',\n",
      "                   'symbol': 'nflx',\n",
      "                   'total': '10613.85160452193172631041307',\n",
      "                   'transaction_code': 'buy'},\n",
      "                  {'amount': 1376,\n",
      "                   'date': datetime.datetime(2016, 1, 4, 0, 0),\n",
      "                   'price': '28.893855339485757127704346203245222568511962890625',\n",
      "                   'symbol': 'team',\n",
      "                   'total': '39757.94494713240180772118038',\n",
      "                   'transaction_code': 'buy'},\n",
      "                  {'amount': 3044,\n",
      "                   'date': datetime.datetime(1989, 3, 16, 0, 0),\n",
      "                   'price': '1.2795149853767535663706667037331499159336090087890625',\n",
      "                   'symbol': 'adbe',\n",
      "                   'total': '3894.843615486837856032309446',\n",
      "                   'transaction_code': 'buy'},\n",
      "                  {'amount': 7246,\n",
      "                   'date': datetime.datetime(1998, 6, 30, 0, 0),\n",
      "                   'price': '19.697308460376579120065798633731901645660400390625',\n",
      "                   'symbol': 'msft',\n",
      "                   'total': '142726.6971038886923039967769',\n",
      "                   'transaction_code': 'buy'},\n",
      "                  {'amount': 5935,\n",
      "                   'date': datetime.datetime(2014, 7, 7, 0, 0),\n",
      "                   'price': '38.65917577251284598105485201813280582427978515625',\n",
      "                   'symbol': 'msft',\n",
      "                   'total': '229442.2082098637408975605467',\n",
      "                   'transaction_code': 'buy'},\n",
      "                  {'amount': 4155,\n",
      "                   'date': datetime.datetime(2009, 9, 25, 0, 0),\n",
      "                   'price': '32.28257057551964948061140603385865688323974609375',\n",
      "                   'symbol': 'adbe',\n",
      "                   'total': '134134.0807412841435919403921',\n",
      "                   'transaction_code': 'buy'},\n",
      "                  {'amount': 5199,\n",
      "                   'date': datetime.datetime(2016, 6, 27, 0, 0),\n",
      "                   'price': '25.54567484371674623844228335656225681304931640625',\n",
      "                   'symbol': 'team',\n",
      "                   'total': '132811.9635124833636936614312',\n",
      "                   'transaction_code': 'buy'},\n",
      "                  {'amount': 9229,\n",
      "                   'date': datetime.datetime(2010, 4, 1, 0, 0),\n",
      "                   'price': '10.6848136359437528852822651970200240612030029296875',\n",
      "                   'symbol': 'nflx',\n",
      "                   'total': '98610.14504612489537827002550',\n",
      "                   'transaction_code': 'sell'},\n",
      "                  {'amount': 2881,\n",
      "                   'date': datetime.datetime(2005, 7, 7, 0, 0),\n",
      "                   'price': '20.6769287918292690164889791049063205718994140625',\n",
      "                   'symbol': 'msft',\n",
      "                   'total': '59570.23184926012403650474880',\n",
      "                   'transaction_code': 'buy'}]}\n"
     ]
    },
    {
     "data": {
      "text/plain": [
       "[None]"
      ]
     },
     "execution_count": 9,
     "metadata": {},
     "output_type": "execute_result"
    }
   ],
   "source": [
    "[pprint(records) for records in finance_db.transactions.find().limit(1)]"
   ]
  },
  {
   "cell_type": "markdown",
   "id": "30fb6e03",
   "metadata": {},
   "source": [
    "### Get all the customer who has an active status and whose date of birth year is between 1995 and 1997"
   ]
  },
  {
   "cell_type": "code",
   "execution_count": 10,
   "id": "29186ab1",
   "metadata": {},
   "outputs": [
    {
     "name": "stdout",
     "output_type": "stream",
     "text": [
      "{'_id': ObjectId('5ca4bbcea2dd94ee58162a6d'),\n",
      " 'accounts': [904260, 565468],\n",
      " 'address': '17677 Mark Crest\\nWalterberg, IA 39017',\n",
      " 'birthdate': datetime.datetime(1996, 9, 13, 17, 14, 27),\n",
      " 'email': 'amyholland@yahoo.com',\n",
      " 'name': 'Natalie Ford',\n",
      " 'tier_and_details': {'07d516cfd7fc4ec6acf175bb78cb98a2': {'active': True,\n",
      "                                                           'benefits': ['dedicated '\n",
      "                                                                        'account '\n",
      "                                                                        'representative'],\n",
      "                                                           'id': '07d516cfd7fc4ec6acf175bb78cb98a2',\n",
      "                                                           'tier': 'Gold'},\n",
      "                      '69f8b6a3c39c42edb540499ee2651b75': {'active': True,\n",
      "                                                           'benefits': ['dedicated '\n",
      "                                                                        'account '\n",
      "                                                                        'representative',\n",
      "                                                                        'airline '\n",
      "                                                                        'lounge '\n",
      "                                                                        'access'],\n",
      "                                                           'id': '69f8b6a3c39c42edb540499ee2651b75',\n",
      "                                                           'tier': 'Bronze'},\n",
      "                      'c85df12c2e394afb82725b16e1cc6789': {'active': True,\n",
      "                                                           'benefits': ['airline '\n",
      "                                                                        'lounge '\n",
      "                                                                        'access'],\n",
      "                                                           'id': 'c85df12c2e394afb82725b16e1cc6789',\n",
      "                                                           'tier': 'Bronze'}},\n",
      " 'username': 'gregoryharrison'}\n",
      "{'_id': ObjectId('5ca4bbcea2dd94ee58162aa2'),\n",
      " 'accounts': [261248, 598525, 333315, 278497],\n",
      " 'address': 'USNS Jefferson\\nFPO AA 96361',\n",
      " 'birthdate': datetime.datetime(1995, 8, 11, 10, 46, 45),\n",
      " 'email': 'atkinsontodd@hotmail.com',\n",
      " 'name': 'Maria Alexander',\n",
      " 'tier_and_details': {},\n",
      " 'username': 'jenniferstephens'}\n",
      "{'_id': ObjectId('5ca4bbcea2dd94ee58162ab9'),\n",
      " 'accounts': [679236, 985280, 839760],\n",
      " 'address': '12193 April Shore Apt. 519\\nEast Tiffanyfurt, IL 93505',\n",
      " 'birthdate': datetime.datetime(1995, 6, 1, 4, 23, 7),\n",
      " 'email': 'snydermark@yahoo.com',\n",
      " 'name': 'Cheryl Anderson',\n",
      " 'tier_and_details': {},\n",
      " 'username': 'timothyayers'}\n",
      "{'_id': ObjectId('5ca4bbcea2dd94ee58162acd'),\n",
      " 'accounts': [427384],\n",
      " 'address': '212 Baxter Alley Apt. 827\\nWest Juliaview, KY 74343',\n",
      " 'birthdate': datetime.datetime(1995, 7, 1, 10, 40, 18),\n",
      " 'email': 'whiteheadnicholas@hotmail.com',\n",
      " 'name': 'Justin Miller',\n",
      " 'tier_and_details': {},\n",
      " 'username': 'smccall'}\n",
      "{'_id': ObjectId('5ca4bbcea2dd94ee58162ad3'),\n",
      " 'accounts': [907816],\n",
      " 'address': '21760 Baldwin Lodge Suite 455\\nJustinmouth, NE 08439',\n",
      " 'birthdate': datetime.datetime(1996, 2, 23, 15, 35, 36),\n",
      " 'email': 'brandon48@yahoo.com',\n",
      " 'name': 'Dustin Peterson',\n",
      " 'tier_and_details': {},\n",
      " 'username': 'austinfisher'}\n"
     ]
    }
   ],
   "source": [
    "date_start = datetime(1995, 1, 1, 0, 0, 0, 0)\n",
    "date_end = datetime(1997, 1, 1, 0, 0, 0, 0)\n",
    "\n",
    "# Use the find() method to retrieve matching documents\n",
    "matching_customers = customers.find({\n",
    "    \"birthdate\": {\n",
    "        \"$gte\": date_start,\n",
    "        \"$lte\": date_end\n",
    "    }\n",
    "}).limit(5)\n",
    "\n",
    "# Iterate and print the matching customers\n",
    "for customer in matching_customers:\n",
    "    pprint(customer)"
   ]
  },
  {
   "cell_type": "markdown",
   "id": "d9d2903c",
   "metadata": {},
   "source": [
    "### Find all the unique products in the accounts collection\n",
    "- Products is an array object in the accounts collection, there are multiple records, so we want to know how many unique products are there in this collection"
   ]
  },
  {
   "cell_type": "code",
   "execution_count": 11,
   "id": "5660f15d",
   "metadata": {},
   "outputs": [
    {
     "name": "stdout",
     "output_type": "stream",
     "text": [
      "['Brokerage', 'CurrencyService', 'Commodity', 'InvestmentStock', 'Derivatives', 'InvestmentFund']\n"
     ]
    }
   ],
   "source": [
    "pipeline = [\n",
    "    \n",
    "    {\n",
    "        \"$unwind\": \"$products\"   #first unwind all the array into documents\n",
    "    },\n",
    "    {\n",
    "        \"$group\": {\n",
    "            \"_id\": \"unique_products\",\n",
    "            \"unique_products\": {\"$addToSet\": \"$products\"}\n",
    "        }\n",
    "    },\n",
    "    {\n",
    "        \"$project\": {\n",
    "            \"_id\": 0,\n",
    "            \"unique_products\": 1\n",
    "        }\n",
    "    }\n",
    "]\n",
    "accounts_list = list(accounts.aggregate(pipeline))\n",
    "print(accounts_list[0][\"unique_products\"])"
   ]
  },
  {
   "cell_type": "markdown",
   "id": "25327b4f",
   "metadata": {},
   "source": [
    "### Find all transactions which has purchased scrips for adobe, microsoft and netflix"
   ]
  },
  {
   "cell_type": "code",
   "execution_count": 12,
   "id": "abc3c28e",
   "metadata": {},
   "outputs": [
    {
     "name": "stdout",
     "output_type": "stream",
     "text": [
      "[{'account_id': {'account_id': 443178, 'symbol': 'sap'},\n",
      "  'total': 3606044.0271663205},\n",
      " {'account_id': {'account_id': 443178, 'symbol': 'team'},\n",
      "  'total': 1114640.280341524},\n",
      " {'account_id': {'account_id': 443178, 'symbol': 'ibm'},\n",
      "  'total': 4369375.981492583},\n",
      " {'account_id': {'account_id': 443178, 'symbol': 'nflx'},\n",
      "  'total': 2752792.0209153784},\n",
      " {'account_id': {'account_id': 443178, 'symbol': 'msft'},\n",
      "  'total': 1014534.0243606936},\n",
      " {'account_id': {'account_id': 443178, 'symbol': 'adbe'},\n",
      "  'total': 1642509.9994569893}]\n"
     ]
    }
   ],
   "source": [
    "pipeline = [\n",
    "     {\n",
    "        '$match': {\n",
    "            'account_id': 443178\n",
    "        }\n",
    "    },\n",
    "    {\n",
    "        '$unwind': '$transactions'\n",
    "    },\n",
    "    {\n",
    "        '$group': {\n",
    "            '_id': {\n",
    "                'account_id': '$account_id',\n",
    "                'symbol': '$transactions.symbol'\n",
    "            },\n",
    "            'total': {\n",
    "              '$sum': {\n",
    "                    '$toDouble': '$transactions.total'\n",
    "                }          \n",
    "            }           \n",
    "        }\n",
    "    },   \n",
    "    {\n",
    "        '$project': {\n",
    "            '_id': 0,\n",
    "            'account_id': '$_id',\n",
    "            'total': 1\n",
    "        }\n",
    "    }\n",
    "]\n",
    "transactions_list = list(transactions.aggregate(pipeline))\n",
    "pprint(transactions_list)"
   ]
  },
  {
   "cell_type": "markdown",
   "id": "397849d5",
   "metadata": {},
   "source": [
    "### Filter the customer who has a account and the limit is less then 1000, in this we will use a lookup to join the accounts and customer collection \n",
    "- we will lookup accounts with customers based on account_id"
   ]
  },
  {
   "cell_type": "code",
   "execution_count": 13,
   "id": "c85b570e",
   "metadata": {},
   "outputs": [
    {
     "name": "stdout",
     "output_type": "stream",
     "text": [
      "{'address': '153 Ramirez Mountains\\nHardyfort, IA 16827',\n",
      " 'email': 'shane95@yahoo.com',\n",
      " 'limit': 3000,\n",
      " 'name': 'Colleen Watson'}\n",
      "{'address': '22879 Peterson Hill\\nEast Maria, NJ 24417',\n",
      " 'email': 'robertlloyd@hotmail.com',\n",
      " 'limit': 3000,\n",
      " 'name': 'Danielle Blevins'}\n",
      "{'address': '42601 Marc Forks\\nLake Stevenbury, NE 09808',\n",
      " 'email': 'vchristensen@gmail.com',\n",
      " 'limit': 5000,\n",
      " 'name': 'Daniel Wang'}\n"
     ]
    }
   ],
   "source": [
    "pipeline = [\n",
    "    {\n",
    "        \"$match\": {\n",
    "            \"limit\": { \"$lte\": 5000 } # hard coded value , but will be replaced with variable when using with flask\n",
    "        }\n",
    "    },   \n",
    "    {\n",
    "        \"$lookup\": {\n",
    "            \"from\": \"customers\",  \n",
    "            \"localField\": \"account_id\",  \n",
    "            \"foreignField\": \"accounts\",  \n",
    "            \"as\": \"customer\"  # alias for the joined data\n",
    "        }\n",
    "    },\n",
    "    {\n",
    "        \"$unwind\": \"$customer\"  \n",
    "    },       \n",
    "    {\n",
    "        \"$project\": {           \n",
    "            \"name\": \"$customer.name\", \n",
    "            \"email\": \"$customer.email\", \n",
    "            \"address\": \"$customer.address\",              \n",
    "            \"limit\": 1,                     \n",
    "             \"_id\":0,\n",
    "        }\n",
    "    },\n",
    "    {\n",
    "        \"$sort\": {\n",
    "            \"limit\": 1  # ascending order\n",
    "        }\n",
    "    }\n",
    "]\n",
    "\n",
    "result = accounts.aggregate(pipeline)\n",
    "\n",
    "# Iterate through the results\n",
    "for document in result:\n",
    "    pprint(document)"
   ]
  },
  {
   "cell_type": "markdown",
   "id": "906a1f70",
   "metadata": {},
   "source": [
    "### To Display on the front end, we will join three collections and show selected fields from all the three collections\n",
    "#### We wil use the following fields\n",
    "- customers\n",
    "- accounts\n",
    "- transactions"
   ]
  },
  {
   "cell_type": "code",
   "execution_count": 14,
   "id": "f1ae9f92",
   "metadata": {},
   "outputs": [
    {
     "name": "stdout",
     "output_type": "stream",
     "text": [
      "{'customerName': 'Colleen Watson', 'accountLimit': 10000, 'bucket_end_date': datetime.datetime(2017, 1, 4, 0, 0), 'bucket_start_date': datetime.datetime(1989, 1, 7, 0, 0), 'transaction_count': 45}\n",
      "{'customerName': 'Colleen Watson', 'accountLimit': 10000, 'bucket_end_date': datetime.datetime(2017, 1, 9, 0, 0), 'bucket_start_date': datetime.datetime(1987, 9, 12, 0, 0), 'transaction_count': 99}\n",
      "{'customerName': 'Colleen Watson', 'accountLimit': 10000, 'bucket_end_date': datetime.datetime(2016, 12, 31, 0, 0), 'bucket_start_date': datetime.datetime(1986, 5, 21, 0, 0), 'transaction_count': 89}\n",
      "{'customerName': 'Colleen Watson', 'accountLimit': 3000, 'bucket_end_date': datetime.datetime(2007, 12, 19, 0, 0), 'bucket_start_date': datetime.datetime(2006, 4, 28, 0, 0), 'transaction_count': 1}\n",
      "{'customerName': 'Colleen Watson', 'accountLimit': 10000, 'bucket_end_date': datetime.datetime(2017, 1, 3, 0, 0), 'bucket_start_date': datetime.datetime(1987, 11, 16, 0, 0), 'transaction_count': 82}\n",
      "{'customerName': 'Colleen Watson', 'accountLimit': 10000, 'bucket_end_date': datetime.datetime(2016, 12, 21, 0, 0), 'bucket_start_date': datetime.datetime(2000, 2, 7, 0, 0), 'transaction_count': 25}\n"
     ]
    }
   ],
   "source": [
    "pipeline = [\n",
    "    {\n",
    "        \"$lookup\": {\n",
    "            \"from\": \"customers\",\n",
    "            \"localField\": \"account_id\",\n",
    "            \"foreignField\": \"accounts\",\n",
    "            \"as\": \"customer\"\n",
    "        }\n",
    "    },\n",
    "    {\n",
    "        \"$unwind\": \"$customer\"\n",
    "    },\n",
    "    {\n",
    "        \"$match\": {\n",
    "            \"customer.name\": \"Colleen Watson\",             \n",
    "        }\n",
    "    },\n",
    "    {\n",
    "        \"$lookup\": {\n",
    "            \"from\": \"transactions\",\n",
    "            \"localField\": \"account_id\",\n",
    "            \"foreignField\": \"account_id\",\n",
    "            \"as\": \"transactions\"\n",
    "        }\n",
    "    },\n",
    "    {\n",
    "        \"$unwind\" : \"$transactions\"\n",
    "    },\n",
    "    {\n",
    "        \"$project\": {\n",
    "            \"_id\": 0,\n",
    "            \"customerName\": \"$customer.name\",\n",
    "            \"accountLimit\": \"$limit\",   \n",
    "            \"bucket_end_date\" : \"$transactions.bucket_end_date\",\n",
    "            \"bucket_start_date\" : \"$transactions.bucket_start_date\",\n",
    "            \"transaction_count\" : \"$transactions.transaction_count\"\n",
    "        }\n",
    "    }\n",
    "]\n",
    "\n",
    "result = accounts.aggregate(pipeline)\n",
    "\n",
    "for document in result:\n",
    "    print(document)\n"
   ]
  },
  {
   "cell_type": "markdown",
   "id": "2acf0a67",
   "metadata": {},
   "source": [
    "### CRUD operation to insert, update and delete new records into Customers collection"
   ]
  },
  {
   "cell_type": "code",
   "execution_count": 15,
   "id": "019bc7bb",
   "metadata": {},
   "outputs": [
    {
     "name": "stdout",
     "output_type": "stream",
     "text": [
      "Generated Id for Inserted record is : 6512649f80332d8e49e479cc\n"
     ]
    }
   ],
   "source": [
    "new_customer = {\n",
    "         'accounts': [371138],\n",
    "         'active': True,\n",
    "         'address': 'ABC India Town, Bangalore, PIN 458585',\n",
    "         'birthdate': datetime(1977, 3, 2, 2, 20, 31),\n",
    "         'email': 'test@gmail.com',\n",
    "         'name': 'Abby Roy',\n",
    "         'tier_and_details': {'0df078f33aa74a2e9696e0520c1a828b': {'active': True,\n",
    "                                                                   'benefits': ['sports '\n",
    "                                                                                'tickets'],\n",
    "                                                                   'id': '0dg078f33aa74a2e9696e0520c1a828a',\n",
    "                                                                   'tier': 'Bronze'\n",
    "                                                                  }\n",
    "                              },\n",
    "         'username': 'aroy'\n",
    "    }\n",
    "    \n",
    "result = customers.insert_one(new_customer)\n",
    "print(f\"Generated Id for Inserted record is : {result.inserted_id}\")"
   ]
  },
  {
   "cell_type": "markdown",
   "id": "0ceca7d1",
   "metadata": {},
   "source": [
    "### CRUD operation to update the customer collection for single record"
   ]
  },
  {
   "cell_type": "code",
   "execution_count": 16,
   "id": "053a3eeb",
   "metadata": {},
   "outputs": [
    {
     "name": "stdout",
     "output_type": "stream",
     "text": [
      "1\n",
      "{'_id': ObjectId('6512649f80332d8e49e479cc'), 'accounts': [371138], 'active': False, 'address': 'ABC India Town, Bangalore, PIN 458585', 'birthdate': datetime.datetime(1977, 3, 2, 2, 20, 31), 'email': 'test@gmail.com', 'name': 'BBC Roy', 'tier_and_details': {'0df078f33aa74a2e9696e0520c1a828b': {'active': True, 'benefits': ['sports tickets'], 'id': '0dg078f33aa74a2e9696e0520c1a828a', 'tier': 'Bronze'}}, 'username': 'aroy'}\n"
     ]
    }
   ],
   "source": [
    "filter_criteria = {\"email\": \"test@gmail.com\"} \n",
    "\n",
    "update_data = {\"$set\": {\"name\": \"BBC Roy\", \"active\": False}}\n",
    "\n",
    "result = customers.update_one(filter_criteria, update_data)\n",
    "print(result.modified_count)\n",
    "\n",
    "search_result = customers.find({\"email\":\"test@gmail.com\"})\n",
    "\n",
    "for document in search_result:\n",
    "    print(document)"
   ]
  },
  {
   "cell_type": "code",
   "execution_count": 17,
   "id": "2f10407a",
   "metadata": {},
   "outputs": [
    {
     "name": "stdout",
     "output_type": "stream",
     "text": [
      "1\n"
     ]
    }
   ],
   "source": [
    "result = customers.delete_one({\"email\":\"test@gmail.com\"})\n",
    "print(result.deleted_count)"
   ]
  },
  {
   "cell_type": "markdown",
   "id": "3e4f5c5a",
   "metadata": {},
   "source": [
    "### Filter by limit field in accounts using greater then clause"
   ]
  },
  {
   "cell_type": "code",
   "execution_count": 18,
   "id": "1b15fc4c",
   "metadata": {},
   "outputs": [
    {
     "name": "stdout",
     "output_type": "stream",
     "text": [
      "{'name': 'Colleen Watson', 'email': 'shane95@yahoo.com', 'userName': 'martinallen', 'accountLimit': 3000, 'transactionCount': 1}\n",
      "{'name': 'Danielle Blevins', 'email': 'robertlloyd@hotmail.com', 'userName': 'tina17', 'accountLimit': 3000, 'transactionCount': 2}\n",
      "{'name': 'Daniel Wang', 'email': 'vchristensen@gmail.com', 'userName': 'dianefoster', 'accountLimit': 5000, 'transactionCount': 1}\n",
      "{'name': 'Wendy Lane', 'email': 'kristinmartinez@hotmail.com', 'userName': 'garymiller', 'accountLimit': 7000, 'transactionCount': 3}\n",
      "{'name': 'Robert Hooper', 'email': 'stephenmassey@hotmail.com', 'userName': 'nicolesmith', 'accountLimit': 7000, 'transactionCount': 1}\n"
     ]
    }
   ],
   "source": [
    "pipeline = [\n",
    "   {\n",
    "      \"$lookup\":{\n",
    "         \"from\":\"customers\",\n",
    "         \"localField\":\"account_id\",\n",
    "         \"foreignField\":\"accounts\",\n",
    "         \"as\":\"customer\"\n",
    "      }\n",
    "   },\n",
    "   {\n",
    "      \"$unwind\":\"$customer\"\n",
    "   },\n",
    "   {\n",
    "      \"$lookup\":{\n",
    "         \"from\":\"transactions\",\n",
    "         \"localField\":\"account_id\",\n",
    "         \"foreignField\":\"account_id\",\n",
    "         \"as\":\"transactions\"\n",
    "      }\n",
    "   },\n",
    "   {\n",
    "      \"$unwind\":\"$transactions\"\n",
    "   },   \n",
    "   {\n",
    "      \"$match\":{\n",
    "         \"limit\":{\n",
    "            \"$gte\": 1000\n",
    "         }\n",
    "      }\n",
    "   },\n",
    "   {\n",
    "      \"$limit\":5\n",
    "   },\n",
    "   {\n",
    "      \"$project\":{\n",
    "         \"_id\":0,\n",
    "         \"name\":\"$customer.name\",\n",
    "         \"email\":\"$customer.email\",\n",
    "         \"userName\":\"$customer.username\",\n",
    "         \"accountLimit\":\"$limit\",\n",
    "         \"transactionCount\":\"$transactions.transaction_count\"\n",
    "      }\n",
    "   }\n",
    "]\n",
    "\n",
    "result = accounts.aggregate(pipeline)\n",
    "\n",
    "for document in result:\n",
    "    print(document)"
   ]
  },
  {
   "cell_type": "markdown",
   "id": "04b93697",
   "metadata": {},
   "source": [
    "### Search by username using find command and project the required fields"
   ]
  },
  {
   "cell_type": "code",
   "execution_count": 19,
   "id": "a3ba4520",
   "metadata": {},
   "outputs": [
    {
     "name": "stdout",
     "output_type": "stream",
     "text": [
      "{'birthdate': datetime.datetime(1977, 3, 2, 2, 20, 31),\n",
      " 'email': 'arroyocolton@gmail.com',\n",
      " 'name': 'Elizabeth Ray',\n",
      " 'username': 'fmiller'}\n"
     ]
    }
   ],
   "source": [
    "result = customers.find(\n",
    "        {\"username\": 'fmiller'},\n",
    "        {\"_id\": 0, \"name\": 1, \"email\": 1, \"username\": 1, \"birthdate\": 1})\n",
    "for document in result:\n",
    "    pprint(document)"
   ]
  },
  {
   "cell_type": "code",
   "execution_count": null,
   "id": "00ee6e2d",
   "metadata": {},
   "outputs": [],
   "source": []
  }
 ],
 "metadata": {
  "kernelspec": {
   "display_name": "Python 3 (ipykernel)",
   "language": "python",
   "name": "python3"
  },
  "language_info": {
   "codemirror_mode": {
    "name": "ipython",
    "version": 3
   },
   "file_extension": ".py",
   "mimetype": "text/x-python",
   "name": "python",
   "nbconvert_exporter": "python",
   "pygments_lexer": "ipython3",
   "version": "3.10.9"
  }
 },
 "nbformat": 4,
 "nbformat_minor": 5
}
