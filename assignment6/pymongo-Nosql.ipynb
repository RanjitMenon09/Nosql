{
 "cells": [
  {
   "cell_type": "markdown",
   "id": "a8a59484",
   "metadata": {},
   "source": [
    "### Install pre-requisite"
   ]
  },
  {
   "cell_type": "code",
   "execution_count": 1,
   "id": "e2daa820",
   "metadata": {},
   "outputs": [
    {
     "name": "stdout",
     "output_type": "stream",
     "text": [
      "Requirement already satisfied: pymongo in c:\\programdata\\anaconda3\\lib\\site-packages (4.4.1)\n",
      "Requirement already satisfied: dnspython<3.0.0,>=1.16.0 in c:\\programdata\\anaconda3\\lib\\site-packages (from pymongo) (2.4.1)\n"
     ]
    }
   ],
   "source": [
    "!pip install pymongo"
   ]
  },
  {
   "cell_type": "markdown",
   "id": "4f42f987",
   "metadata": {},
   "source": [
    "### Demonstrate how to establish a connection between Pymongo and MongoDB."
   ]
  },
  {
   "cell_type": "code",
   "execution_count": 2,
   "id": "7c530cc4",
   "metadata": {},
   "outputs": [
    {
     "name": "stdout",
     "output_type": "stream",
     "text": [
      "Education\n",
      "Employee_db\n",
      "admin\n",
      "config\n",
      "institute\n",
      "local\n"
     ]
    }
   ],
   "source": [
    "from pymongo import MongoClient\n",
    "client = MongoClient(\"mongodb://localhost:27017/\")\n",
    "\n",
    "#get the list of database from client object.\n",
    "db_names = client.list_database_names()\n",
    "\n",
    "# Print the list of database names\n",
    "for db_name in db_names:\n",
    "    print(db_name)\n",
    "    "
   ]
  },
  {
   "cell_type": "markdown",
   "id": "ee901312",
   "metadata": {},
   "source": [
    "### Create Employee Database (Pymongo) "
   ]
  },
  {
   "cell_type": "code",
   "execution_count": 3,
   "id": "98ae3d02",
   "metadata": {},
   "outputs": [
    {
     "name": "stdout",
     "output_type": "stream",
     "text": [
      "Inserted document IDs: [ObjectId('64ca775e883379906ae6ff37'), ObjectId('64ca775e883379906ae6ff38'), ObjectId('64ca775e883379906ae6ff39'), ObjectId('64ca775e883379906ae6ff3a'), ObjectId('64ca775e883379906ae6ff3b'), ObjectId('64ca775e883379906ae6ff3c'), ObjectId('64ca775e883379906ae6ff3d')]\n"
     ]
    }
   ],
   "source": [
    "# Create the \"Employee\" database\n",
    "db = client[\"Employee_db\"]\n",
    "\n",
    "#get the list of database from client object.\n",
    "db_names = client.list_database_names()\n",
    "\n",
    "# Create the \"employee_collection\" collection\n",
    "employee_collection = db[\"employee\"]\n",
    "\n",
    "# create sample data\n",
    "employees_data = [\n",
    "    {\"name\": \"Fahad Fazil\", \"age\": 30, \"position\": \"Software Engineer\", \"salary\": 60000},\n",
    "    {\"name\": \"Dulqar Salman\", \"age\": 28, \"position\": \"Data Scientist\", \"salary\": 75000},\n",
    "    {\"name\": \"Jyothika\", \"age\": 35, \"position\": \"Product Manager\", \"salary\": 90000},\n",
    "    {\"name\": \"Priya Mani \", \"age\": 32, \"position\": \"UX Designer\", \"salary\": 65000},\n",
    "    {\"name\": \"Manju Warrier\", \"age\": 26, \"position\": \"Frontend Developer\", \"salary\": 55000},\n",
    "    {\"name\": \"Shobhana\", \"age\": 29, \"position\": \"Data Analyst\", \"salary\": 70000},\n",
    "    {\"name\": \"Mohan Lal\", \"age\": 31, \"position\": \"CEO\", \"salary\": 162000}\n",
    "]\n",
    "\n",
    "# Insert the employee data into the collection\n",
    "result = employee_collection.insert_many(employees_data)\n",
    "\n",
    "# confirm records saved correctly\n",
    "print(\"Inserted document IDs:\", result.inserted_ids)\n"
   ]
  },
  {
   "cell_type": "markdown",
   "id": "28025b14",
   "metadata": {},
   "source": [
    "### Find all documents in the collection"
   ]
  },
  {
   "cell_type": "code",
   "execution_count": 4,
   "id": "bd20f4d1",
   "metadata": {},
   "outputs": [
    {
     "name": "stdout",
     "output_type": "stream",
     "text": [
      "{'_id': ObjectId('64ca48f5aa217e0f4717c07e'), 'name': 'Fahad Fazil', 'age': 30, 'profession': 'Actor', 'earnings': 60000, 'rating': '9/10'}\n",
      "{'_id': ObjectId('64ca48f5aa217e0f4717c07f'), 'name': 'Dulqar Salman', 'age': 28, 'position': 'Data Scientist', 'salary': 75000}\n",
      "{'_id': ObjectId('64ca48f5aa217e0f4717c080'), 'name': 'Jyothika', 'age': 35, 'position': 'Product Manager', 'salary': 90000}\n",
      "{'_id': ObjectId('64ca48f5aa217e0f4717c081'), 'name': 'Priya Mani ', 'age': 32, 'position': 'UX Designer', 'salary': 65000}\n",
      "{'_id': ObjectId('64ca48f5aa217e0f4717c082'), 'name': 'Manju Warrier', 'age': 26, 'position': 'Frontend Developer', 'salary': 55000}\n",
      "{'_id': ObjectId('64ca48f5aa217e0f4717c083'), 'name': 'Shobhana', 'age': 29, 'position': 'Data Analyst', 'salary': 70000}\n",
      "{'_id': ObjectId('64ca48f5aa217e0f4717c084'), 'name': 'Mohan Lal', 'age': 31, 'position': 'CEO', 'salary': 162000}\n",
      "{'_id': ObjectId('64ca775e883379906ae6ff37'), 'name': 'Fahad Fazil', 'age': 30, 'position': 'Software Engineer', 'salary': 60000}\n",
      "{'_id': ObjectId('64ca775e883379906ae6ff38'), 'name': 'Dulqar Salman', 'age': 28, 'position': 'Data Scientist', 'salary': 75000}\n",
      "{'_id': ObjectId('64ca775e883379906ae6ff39'), 'name': 'Jyothika', 'age': 35, 'position': 'Product Manager', 'salary': 90000}\n",
      "{'_id': ObjectId('64ca775e883379906ae6ff3a'), 'name': 'Priya Mani ', 'age': 32, 'position': 'UX Designer', 'salary': 65000}\n",
      "{'_id': ObjectId('64ca775e883379906ae6ff3b'), 'name': 'Manju Warrier', 'age': 26, 'position': 'Frontend Developer', 'salary': 55000}\n",
      "{'_id': ObjectId('64ca775e883379906ae6ff3c'), 'name': 'Shobhana', 'age': 29, 'position': 'Data Analyst', 'salary': 70000}\n",
      "{'_id': ObjectId('64ca775e883379906ae6ff3d'), 'name': 'Mohan Lal', 'age': 31, 'position': 'CEO', 'salary': 162000}\n"
     ]
    }
   ],
   "source": [
    "all_documents = employee_collection.find()\n",
    "for document in all_documents:\n",
    "    print(document)"
   ]
  },
  {
   "cell_type": "markdown",
   "id": "89a03ca6",
   "metadata": {},
   "source": [
    "### Find one document with the condition.\n",
    "\n",
    "#### Get employee whose name match with condition"
   ]
  },
  {
   "cell_type": "code",
   "execution_count": 5,
   "id": "4fe5272c",
   "metadata": {},
   "outputs": [
    {
     "name": "stdout",
     "output_type": "stream",
     "text": [
      "{'_id': ObjectId('64ca48f5aa217e0f4717c084'), 'name': 'Mohan Lal', 'age': 31, 'position': 'CEO', 'salary': 162000}\n"
     ]
    }
   ],
   "source": [
    "# Find one document by name \n",
    "employee = employee_collection.find_one({\"name\": \"Mohan Lal\"})\n",
    "\n",
    "# Print the result\n",
    "print(employee)"
   ]
  },
  {
   "cell_type": "markdown",
   "id": "ec50e763",
   "metadata": {},
   "source": [
    "#### get employees whose age is greater then 30"
   ]
  },
  {
   "cell_type": "code",
   "execution_count": 6,
   "id": "ca97b09a",
   "metadata": {},
   "outputs": [
    {
     "name": "stdout",
     "output_type": "stream",
     "text": [
      "{'_id': ObjectId('64ca48f5aa217e0f4717c080'), 'name': 'Jyothika', 'age': 35, 'position': 'Product Manager', 'salary': 90000}\n",
      "{'_id': ObjectId('64ca48f5aa217e0f4717c081'), 'name': 'Priya Mani ', 'age': 32, 'position': 'UX Designer', 'salary': 65000}\n",
      "{'_id': ObjectId('64ca48f5aa217e0f4717c084'), 'name': 'Mohan Lal', 'age': 31, 'position': 'CEO', 'salary': 162000}\n",
      "{'_id': ObjectId('64ca775e883379906ae6ff39'), 'name': 'Jyothika', 'age': 35, 'position': 'Product Manager', 'salary': 90000}\n",
      "{'_id': ObjectId('64ca775e883379906ae6ff3a'), 'name': 'Priya Mani ', 'age': 32, 'position': 'UX Designer', 'salary': 65000}\n",
      "{'_id': ObjectId('64ca775e883379906ae6ff3d'), 'name': 'Mohan Lal', 'age': 31, 'position': 'CEO', 'salary': 162000}\n"
     ]
    }
   ],
   "source": [
    "# Find one document by age \n",
    "employees = employee_collection.find({\"age\": {\"$gt\": 30}})\n",
    "\n",
    "# Print the result\n",
    "for employee in employees:\n",
    "    print(employee)"
   ]
  },
  {
   "cell_type": "markdown",
   "id": "e5e14eb8",
   "metadata": {},
   "source": [
    "### Display two Documents in the database using LIMIT Command."
   ]
  },
  {
   "cell_type": "code",
   "execution_count": 7,
   "id": "df96ab30",
   "metadata": {},
   "outputs": [
    {
     "name": "stdout",
     "output_type": "stream",
     "text": [
      "{'_id': ObjectId('64ca48f5aa217e0f4717c07e'), 'name': 'Fahad Fazil', 'age': 30, 'profession': 'Actor', 'earnings': 60000, 'rating': '9/10'}\n",
      "{'_id': ObjectId('64ca48f5aa217e0f4717c07f'), 'name': 'Dulqar Salman', 'age': 28, 'position': 'Data Scientist', 'salary': 75000}\n"
     ]
    }
   ],
   "source": [
    "#limit 2 document\n",
    "documents_with_limit = employee_collection.find().limit(2)\n",
    "#print all docs\n",
    "for document in documents_with_limit:\n",
    "    print(document)"
   ]
  },
  {
   "cell_type": "markdown",
   "id": "d33aadfe",
   "metadata": {},
   "source": [
    "### Display from the 5th document"
   ]
  },
  {
   "cell_type": "code",
   "execution_count": 8,
   "id": "4270ef03",
   "metadata": {},
   "outputs": [
    {
     "name": "stdout",
     "output_type": "stream",
     "text": [
      "{'_id': ObjectId('64ca48f5aa217e0f4717c082'), 'name': 'Manju Warrier', 'age': 26, 'position': 'Frontend Developer', 'salary': 55000}\n",
      "{'_id': ObjectId('64ca48f5aa217e0f4717c083'), 'name': 'Shobhana', 'age': 29, 'position': 'Data Analyst', 'salary': 70000}\n",
      "{'_id': ObjectId('64ca48f5aa217e0f4717c084'), 'name': 'Mohan Lal', 'age': 31, 'position': 'CEO', 'salary': 162000}\n",
      "{'_id': ObjectId('64ca775e883379906ae6ff37'), 'name': 'Fahad Fazil', 'age': 30, 'position': 'Software Engineer', 'salary': 60000}\n",
      "{'_id': ObjectId('64ca775e883379906ae6ff38'), 'name': 'Dulqar Salman', 'age': 28, 'position': 'Data Scientist', 'salary': 75000}\n",
      "{'_id': ObjectId('64ca775e883379906ae6ff39'), 'name': 'Jyothika', 'age': 35, 'position': 'Product Manager', 'salary': 90000}\n",
      "{'_id': ObjectId('64ca775e883379906ae6ff3a'), 'name': 'Priya Mani ', 'age': 32, 'position': 'UX Designer', 'salary': 65000}\n",
      "{'_id': ObjectId('64ca775e883379906ae6ff3b'), 'name': 'Manju Warrier', 'age': 26, 'position': 'Frontend Developer', 'salary': 55000}\n",
      "{'_id': ObjectId('64ca775e883379906ae6ff3c'), 'name': 'Shobhana', 'age': 29, 'position': 'Data Analyst', 'salary': 70000}\n",
      "{'_id': ObjectId('64ca775e883379906ae6ff3d'), 'name': 'Mohan Lal', 'age': 31, 'position': 'CEO', 'salary': 162000}\n"
     ]
    }
   ],
   "source": [
    "#show document from 5th collection\n",
    "documents_with_skip = employee_collection.find().skip(4)\n",
    "\n",
    "#print all docs\n",
    "for document in documents_with_skip:\n",
    "    print(document)"
   ]
  },
  {
   "cell_type": "markdown",
   "id": "ade41396",
   "metadata": {},
   "source": [
    "### Sort the documents in Ascending order based on one of the fields."
   ]
  },
  {
   "cell_type": "code",
   "execution_count": 9,
   "id": "584e19f0",
   "metadata": {},
   "outputs": [
    {
     "name": "stdout",
     "output_type": "stream",
     "text": [
      "{'_id': ObjectId('64ca48f5aa217e0f4717c082'), 'name': 'Manju Warrier', 'age': 26, 'position': 'Frontend Developer', 'salary': 55000}\n",
      "{'_id': ObjectId('64ca775e883379906ae6ff3b'), 'name': 'Manju Warrier', 'age': 26, 'position': 'Frontend Developer', 'salary': 55000}\n",
      "{'_id': ObjectId('64ca48f5aa217e0f4717c07f'), 'name': 'Dulqar Salman', 'age': 28, 'position': 'Data Scientist', 'salary': 75000}\n",
      "{'_id': ObjectId('64ca775e883379906ae6ff38'), 'name': 'Dulqar Salman', 'age': 28, 'position': 'Data Scientist', 'salary': 75000}\n",
      "{'_id': ObjectId('64ca48f5aa217e0f4717c083'), 'name': 'Shobhana', 'age': 29, 'position': 'Data Analyst', 'salary': 70000}\n",
      "{'_id': ObjectId('64ca775e883379906ae6ff3c'), 'name': 'Shobhana', 'age': 29, 'position': 'Data Analyst', 'salary': 70000}\n",
      "{'_id': ObjectId('64ca48f5aa217e0f4717c07e'), 'name': 'Fahad Fazil', 'age': 30, 'profession': 'Actor', 'earnings': 60000, 'rating': '9/10'}\n",
      "{'_id': ObjectId('64ca775e883379906ae6ff37'), 'name': 'Fahad Fazil', 'age': 30, 'position': 'Software Engineer', 'salary': 60000}\n",
      "{'_id': ObjectId('64ca48f5aa217e0f4717c084'), 'name': 'Mohan Lal', 'age': 31, 'position': 'CEO', 'salary': 162000}\n",
      "{'_id': ObjectId('64ca775e883379906ae6ff3d'), 'name': 'Mohan Lal', 'age': 31, 'position': 'CEO', 'salary': 162000}\n",
      "{'_id': ObjectId('64ca48f5aa217e0f4717c081'), 'name': 'Priya Mani ', 'age': 32, 'position': 'UX Designer', 'salary': 65000}\n",
      "{'_id': ObjectId('64ca775e883379906ae6ff3a'), 'name': 'Priya Mani ', 'age': 32, 'position': 'UX Designer', 'salary': 65000}\n",
      "{'_id': ObjectId('64ca48f5aa217e0f4717c080'), 'name': 'Jyothika', 'age': 35, 'position': 'Product Manager', 'salary': 90000}\n",
      "{'_id': ObjectId('64ca775e883379906ae6ff39'), 'name': 'Jyothika', 'age': 35, 'position': 'Product Manager', 'salary': 90000}\n"
     ]
    }
   ],
   "source": [
    "#sort the document in the collection\n",
    "documents_with_sort = employee_collection.find().sort(\"age\", 1) # sort by age field in ascending order\n",
    "\n",
    "#print all docs\n",
    "for document in documents_with_sort:\n",
    "    print(document)"
   ]
  },
  {
   "cell_type": "markdown",
   "id": "6e0d8191",
   "metadata": {},
   "source": [
    "### Display find with condition (where)"
   ]
  },
  {
   "cell_type": "code",
   "execution_count": 10,
   "id": "3e67faca",
   "metadata": {},
   "outputs": [
    {
     "name": "stdout",
     "output_type": "stream",
     "text": [
      "{'_id': ObjectId('64ca48f5aa217e0f4717c080'), 'name': 'Jyothika', 'age': 35, 'position': 'Product Manager', 'salary': 90000}\n",
      "{'_id': ObjectId('64ca48f5aa217e0f4717c084'), 'name': 'Mohan Lal', 'age': 31, 'position': 'CEO', 'salary': 162000}\n",
      "{'_id': ObjectId('64ca775e883379906ae6ff39'), 'name': 'Jyothika', 'age': 35, 'position': 'Product Manager', 'salary': 90000}\n",
      "{'_id': ObjectId('64ca775e883379906ae6ff3d'), 'name': 'Mohan Lal', 'age': 31, 'position': 'CEO', 'salary': 162000}\n"
     ]
    }
   ],
   "source": [
    "#find document with where\n",
    "documents_with_where = employee_collection.find({\"$where\" : \"this.salary >= 90000\"})\n",
    "\n",
    "#print all docs\n",
    "for document in documents_with_where:\n",
    "    print(document)"
   ]
  },
  {
   "cell_type": "markdown",
   "id": "9a1d8c10",
   "metadata": {},
   "source": [
    "### Replace a document with a different schema document"
   ]
  },
  {
   "cell_type": "code",
   "execution_count": 11,
   "id": "4f8287cb",
   "metadata": {},
   "outputs": [
    {
     "name": "stdout",
     "output_type": "stream",
     "text": [
      "Number of document replaced :  1\n",
      "{'_id': ObjectId('64ca48f5aa217e0f4717c07e'), 'name': 'Fahad Fazil', 'age': 30, 'profession': 'Actor', 'earnings': 60000, 'rating': '9/10'}\n"
     ]
    }
   ],
   "source": [
    "#change the schema for one document\n",
    "actor_data = {\"name\": \"Fahad Fazil\", \"age\": 30, \"profession\": \"Actor\", \"earnings\": 60000, \"rating\":\"9/10\"}\n",
    "\n",
    "#find document that match Fahad and update that with replace_one\n",
    "documents_to_replace = employee_collection.replace_one({\"name\" : \"Fahad Fazil\"},actor_data)\n",
    "    \n",
    "\n",
    "#print outputs\n",
    "print(\"Number of document replaced : \",  documents_to_replace.modified_count)\n",
    "\n",
    "document = employee_collection.find_one({\"name\":\"Fahad Fazil\"})\n",
    "print(document)"
   ]
  },
  {
   "cell_type": "markdown",
   "id": "620f1b09",
   "metadata": {},
   "source": [
    "### Demonstrate OR condition, AND condition, Conditional operators such as lt,lte;  in operator, all operator, EXISTS operator-checks whether the field has a value"
   ]
  },
  {
   "cell_type": "code",
   "execution_count": 12,
   "id": "d682c9eb",
   "metadata": {},
   "outputs": [
    {
     "name": "stdout",
     "output_type": "stream",
     "text": [
      "{'_id': ObjectId('64ca48f5aa217e0f4717c07f'), 'name': 'Dulqar Salman', 'age': 28, 'position': 'Data Scientist', 'salary': 75000}\n",
      "{'_id': ObjectId('64ca48f5aa217e0f4717c080'), 'name': 'Jyothika', 'age': 35, 'position': 'Product Manager', 'salary': 90000}\n",
      "{'_id': ObjectId('64ca775e883379906ae6ff38'), 'name': 'Dulqar Salman', 'age': 28, 'position': 'Data Scientist', 'salary': 75000}\n",
      "{'_id': ObjectId('64ca775e883379906ae6ff39'), 'name': 'Jyothika', 'age': 35, 'position': 'Product Manager', 'salary': 90000}\n"
     ]
    }
   ],
   "source": [
    "#use OR condition\n",
    "documents_with_or = employee_collection.find({\"$or\" : [{\"name\":\"Dulqar Salman\"},{\"name\":\"Jyothika\"}]})\n",
    "\n",
    "#print all docs\n",
    "for document in documents_with_or:\n",
    "    print(document)\n"
   ]
  },
  {
   "cell_type": "code",
   "execution_count": 13,
   "id": "a47d9899",
   "metadata": {},
   "outputs": [
    {
     "name": "stdout",
     "output_type": "stream",
     "text": [
      "{'_id': ObjectId('64ca48f5aa217e0f4717c080'), 'name': 'Jyothika', 'age': 35, 'position': 'Product Manager', 'salary': 90000}\n",
      "{'_id': ObjectId('64ca48f5aa217e0f4717c084'), 'name': 'Mohan Lal', 'age': 31, 'position': 'CEO', 'salary': 162000}\n",
      "{'_id': ObjectId('64ca775e883379906ae6ff39'), 'name': 'Jyothika', 'age': 35, 'position': 'Product Manager', 'salary': 90000}\n",
      "{'_id': ObjectId('64ca775e883379906ae6ff3d'), 'name': 'Mohan Lal', 'age': 31, 'position': 'CEO', 'salary': 162000}\n"
     ]
    }
   ],
   "source": [
    "#use And Condition\n",
    "documents_with_and = employee_collection.find({\"$and\" : [{\"age\":{\"$gt\":30}},{\"salary\":{\"$gt\":70000}}]})\n",
    "\n",
    "#print all docs\n",
    "for document in documents_with_and:\n",
    "    print(document)"
   ]
  },
  {
   "cell_type": "code",
   "execution_count": 14,
   "id": "418a978e",
   "metadata": {},
   "outputs": [
    {
     "name": "stdout",
     "output_type": "stream",
     "text": [
      "{'_id': ObjectId('64ca48f5aa217e0f4717c082'), 'name': 'Manju Warrier', 'age': 26, 'position': 'Frontend Developer', 'salary': 55000}\n",
      "{'_id': ObjectId('64ca775e883379906ae6ff3b'), 'name': 'Manju Warrier', 'age': 26, 'position': 'Frontend Developer', 'salary': 55000}\n"
     ]
    }
   ],
   "source": [
    "#use lte condition\n",
    "documents_with_lte = employee_collection.find({\"salary\":{\"$lte\":55000}})\n",
    "\n",
    "#print all docs\n",
    "for document in documents_with_lte:\n",
    "    print(document)"
   ]
  },
  {
   "cell_type": "code",
   "execution_count": 15,
   "id": "9295d715",
   "metadata": {},
   "outputs": [
    {
     "name": "stdout",
     "output_type": "stream",
     "text": [
      "{'_id': ObjectId('64ca48f5aa217e0f4717c082'), 'name': 'Manju Warrier', 'age': 26, 'position': 'Frontend Developer', 'salary': 55000}\n",
      "{'_id': ObjectId('64ca48f5aa217e0f4717c084'), 'name': 'Mohan Lal', 'age': 31, 'position': 'CEO', 'salary': 162000}\n",
      "{'_id': ObjectId('64ca775e883379906ae6ff3b'), 'name': 'Manju Warrier', 'age': 26, 'position': 'Frontend Developer', 'salary': 55000}\n",
      "{'_id': ObjectId('64ca775e883379906ae6ff3d'), 'name': 'Mohan Lal', 'age': 31, 'position': 'CEO', 'salary': 162000}\n"
     ]
    }
   ],
   "source": [
    "#use in operator\n",
    "documents_with_in = employee_collection.find({\"name\":{\"$in\":[\"Mohan Lal\",\"Manju Warrier\"]}})\n",
    "\n",
    "#print all docs\n",
    "for document in documents_with_in:\n",
    "    print(document)"
   ]
  },
  {
   "cell_type": "code",
   "execution_count": 16,
   "id": "e68c1169",
   "metadata": {},
   "outputs": [
    {
     "name": "stdout",
     "output_type": "stream",
     "text": [
      "{'_id': ObjectId('64ca48f5aa217e0f4717c07e'), 'name': 'Fahad Fazil', 'age': 30, 'profession': 'Actor', 'earnings': 60000, 'rating': '9/10'}\n"
     ]
    }
   ],
   "source": [
    "#use exists operator\n",
    "documents_with_exists = employee_collection.find({\"earnings\":{\"$exists\":True}})\n",
    "\n",
    "#print all docs\n",
    "for document in documents_with_exists:\n",
    "    print(document)"
   ]
  },
  {
   "cell_type": "code",
   "execution_count": null,
   "id": "eef4e50c",
   "metadata": {},
   "outputs": [],
   "source": []
  }
 ],
 "metadata": {
  "kernelspec": {
   "display_name": "Python 3 (ipykernel)",
   "language": "python",
   "name": "python3"
  },
  "language_info": {
   "codemirror_mode": {
    "name": "ipython",
    "version": 3
   },
   "file_extension": ".py",
   "mimetype": "text/x-python",
   "name": "python",
   "nbconvert_exporter": "python",
   "pygments_lexer": "ipython3",
   "version": "3.10.9"
  }
 },
 "nbformat": 4,
 "nbformat_minor": 5
}
